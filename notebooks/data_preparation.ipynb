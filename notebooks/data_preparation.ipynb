import numpy as np
import pandas as pd
import matplotlib.pyplot as plt
from scipy.signal import butter, lfilter, resample

class DataPreparation:
    def __init__(self, raw_data_path, filtered_data_path, downsampled_data_path):
        self.raw_data_path = raw_data_path
        self.filtered_data_path = filtered_data_path
        self.downsampled_data_path = downsampled_data_path
        
    def read_raw_data(self):
        """Reads the raw data file"""
        self.raw_data = pd.read_csv(self.raw_data_path)
        
    def filter_data(self, lowcut=1, highcut=50, fs=1000, order=4):
        """Filters the raw data using a bandpass filter"""
        nyq = 0.5 * fs
        low = lowcut / nyq
        high = highcut / nyq
        b, a = butter(order, [low, high], btype='band')
        self.filtered_data = lfilter(b, a, self.raw_data)
        
    def downsample_data(self, downsample_rate=2):
        """Downsamples the filtered data by a specified rate"""
        self.downsampled_data = resample(self.filtered_data, len(self.filtered_data)//downsample_rate)
        
    def save_filtered_data(self):
        """Saves the filtered data to a file"""
        np.savetxt(self.filtered_data_path, self.filtered_data, delimiter=',')
        
    def save_downsampled_data(self):
        """Saves the downsampled data to a file"""
        np.savetxt(self.downsampled_data_path, self.downsampled_data, delimiter=',')
