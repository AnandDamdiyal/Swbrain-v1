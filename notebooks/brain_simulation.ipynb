import numpy as np
import pandas as pd
from src.models.neuron import Neuron
from src.models.synapse import Synapse
from src.models.network import Network

# Define the parameters for the simulation
duration = 1000  # ms
dt = 0.1  # ms
num_neurons = 1000
num_synapses = 10000
weight_range = (0.1, 0.5)
spike_threshold = 1.0

# Create the network
network = Network(num_neurons=num_neurons)

# Create the neurons and add them to the network
for i in range(num_neurons):
    neuron = Neuron()
    network.add_neuron(neuron)

# Create the synapses and connect the neurons
for i in range(num_synapses):
    pre_neuron_idx = np.random.randint(0, num_neurons)
    post_neuron_idx = np.random.randint(0, num_neurons)
    weight = np.random.uniform(*weight_range)
    synapse = Synapse(network.neurons[pre_neuron_idx], network.neurons[post_neuron_idx], weight)
    network.add_synapse(synapse)

# Simulate the network
times = np.arange(0, duration, dt)
voltage_records = np.zeros((num_neurons, len(times)))
spike_records = np.zeros((num_neurons, len(times)))

for i, t in enumerate(times):
    for neuron in network.neurons:
        neuron.update(dt)
        if neuron.spike:
            spike_records[neuron.idx, i] = 1
        voltage_records[neuron.idx, i] = neuron.v

# Plot the results
import matplotlib.pyplot as plt

plt.figure(figsize=(10, 5))
plt.imshow(voltage_records, aspect='auto', cmap='plasma')
plt.xlabel('Time (ms)')
plt.ylabel('Neuron Index')
plt.title('Membrane Potential')
plt.colorbar()
plt.show()

plt.figure(figsize=(10, 5))
plt.imshow(spike_records, aspect='auto', cmap='binary', vmin=0, vmax=1)
plt.xlabel('Time (ms)')
plt.ylabel('Neuron Index')
plt.title('Spike Train')
plt.colorbar()
plt.show()
