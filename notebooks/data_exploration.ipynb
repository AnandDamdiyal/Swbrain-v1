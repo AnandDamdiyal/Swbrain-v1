import numpy as np
import pandas as pd
import matplotlib.pyplot as plt
import seaborn as sns
from scipy.signal import butter, filtfilt

class DataExplorer:
    
    def __init__(self, data_path):
        self.data = pd.read_csv(data_path)
    
    def preprocess_data(self):
        self.data = self.data.dropna()
        self.data = self.data.reset_index(drop=True)
        self.data['timestamp'] = pd.to_datetime(self.data['timestamp'])
    
    def plot_raw_data(self):
        plt.plot(self.data['timestamp'], self.data['signal'])
        plt.xlabel('Time')
        plt.ylabel('Signal')
        plt.title('Raw Signal Data')
        plt.show()
    
    def plot_filtered_data(self, lowcut, highcut, fs):
        nyq = 0.5 * fs
        low = lowcut / nyq
        high = highcut / nyq
        order = 2
        b, a = butter(order, [low, high], btype='band')
        self.data['filtered_signal'] = filtfilt(b, a, self.data['signal'])
        plt.plot(self.data['timestamp'], self.data['filtered_signal'])
        plt.xlabel('Time')
        plt.ylabel('Signal')
        plt.title('Filtered Signal Data')
        plt.show()
    
    def plot_fft(self, fs):
        fft_vals = np.fft.rfft(self.data['signal'])
        psd = np.abs(fft_vals) ** 2
        freqs = np.fft.rfftfreq(len(self.data['signal']), 1/fs)
        plt.plot(freqs, psd)
        plt.xlabel('Frequency (Hz)')
        plt.ylabel('Power')
        plt.title('Power Spectral Density')
        plt.show()
    
    def plot_autocorrelation(self):
        autocorr = np.correlate(self.data['signal'], self.data['signal'], mode='full')
        autocorr = autocorr[len(autocorr)//2:]
        plt.plot(autocorr)
        plt.xlabel('Lag')
        plt.ylabel('Autocorrelation')
        plt.title('Signal Autocorrelation')
        plt.show()
