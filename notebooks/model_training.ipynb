# Import necessary libraries
import numpy as np
import pandas as pd
import matplotlib.pyplot as plt
from sklearn.model_selection import train_test_split
from sklearn.preprocessing import StandardScaler
from sklearn.neural_network import MLPClassifier
from sklearn.metrics import accuracy_score, confusion_matrix

# Load the preprocessed data
data = pd.read_csv('../data/preprocessed_data.csv')

# Split the data into features and labels
X = data.drop(columns=['label'])
y = data['label']

# Split the data into training and testing sets
X_train, X_test, y_train, y_test = train_test_split(X, y, test_size=0.2, random_state=42)

# Standardize the features
scaler = StandardScaler()
X_train = scaler.fit_transform(X_train)
X_test = scaler.transform(X_test)

# Train a multi-layer perceptron classifier
clf = MLPClassifier(hidden_layer_sizes=(100, 50), max_iter=500, alpha=0.0001, solver='adam', random_state=42)
clf.fit(X_train, y_train)

# Evaluate the model on the testing set
y_pred = clf.predict(X_test)
accuracy = accuracy_score(y_test, y_pred)
print(f'Test Accuracy: {accuracy:.2f}')

# Generate a confusion matrix
cm = confusion_matrix(y_test, y_pred)
plt.imshow(cm, cmap=plt.cm.Blues)
plt.title('Confusion Matrix')
plt.colorbar()
plt.xticks([0, 1], ['Alive', 'Deceased'])
plt.yticks([0, 1], ['Alive', 'Deceased'])
plt.xlabel('Predicted Label')
plt.ylabel('True Label')
plt.show()
